{
 "cells": [
  {
   "cell_type": "code",
   "execution_count": 1,
   "id": "84fe3dfc",
   "metadata": {},
   "outputs": [],
   "source": [
    "import numpy as np\n",
    "import matplotlib.pyplot as plt\n",
    "import math\n",
    "import cv2\n",
    "from scipy import integrate"
   ]
  },
  {
   "cell_type": "code",
   "execution_count": 2,
   "id": "983be2a9",
   "metadata": {},
   "outputs": [],
   "source": [
    "#Some predefined parameters\n",
    "\n",
    "P = 1000 #Denotes laser power\n",
    "K = 20 #Thermal conductivity\n",
    "V = 0.1 #Speed of the laser\n",
    "alp = 1/100000 #Thermal diffusivity\n",
    "c_1 = P/(2*math.pi*K) #just a constant = P/(2pi*K) for simplifying further calculations\n",
    "c_2 = V/(2*alp) #Another constant = V/(2alp)\n",
    "T_0 = 300 #Pre-heating"
   ]
  },
  {
   "cell_type": "markdown",
   "id": "dd38132f",
   "metadata": {},
   "source": [
    "# Now that we have defined parameters, we can calculate the temperature function : T(x,y) = T_0 + c_1 * exp[-c_2*(x+R)+R] / R                                                  Here c_1 and c_2 are condition dependent constants calculated above, and R is radial distance from the origin, and R(x,y) = sqrt(x^2+y^2)"
   ]
  },
  {
   "cell_type": "markdown",
   "id": "e722ec82",
   "metadata": {},
   "source": [
    "## The following block of code defines a method that calculates the temperature at the input points"
   ]
  },
  {
   "cell_type": "code",
   "execution_count": 3,
   "id": "72df9354",
   "metadata": {},
   "outputs": [],
   "source": [
    "#This function outputs temperature at the input points.\n",
    "def calculateT():\n",
    "    mm_x = float(input('Enter the x distance in mm: ')) #Distance from the laser origin along the x direction in milli metres\n",
    "    mm_y = float(input('Enter the y distance in mm: ')) #Distance from the laser origin along the y direction in milli metres\n",
    "    m_x = mm_x/1000 #mm to metre conversion\n",
    "    m_y = mm_y/1000 \n",
    "    R = math.sqrt(m_x**2 + m_y**2) #Radial distance from origin\n",
    "    out_T = T_0 + c_1/R * math.exp(-c_2 * (m_x + R)) #Temperature T(x,y) calculated using the same formula as above\n",
    "    print(str(out_T) + ' K')"
   ]
  },
  {
   "cell_type": "code",
   "execution_count": 4,
   "id": "52f18e19",
   "metadata": {},
   "outputs": [
    {
     "name": "stdout",
     "output_type": "stream",
     "text": [
      "Enter the x distance in mm: 0\n",
      "Enter the y distance in mm: 0\n"
     ]
    },
    {
     "ename": "ZeroDivisionError",
     "evalue": "float division by zero",
     "output_type": "error",
     "traceback": [
      "\u001b[1;31m---------------------------------------------------------------------------\u001b[0m",
      "\u001b[1;31mZeroDivisionError\u001b[0m                         Traceback (most recent call last)",
      "\u001b[1;32m<ipython-input-4-e6c640f9838f>\u001b[0m in \u001b[0;36m<module>\u001b[1;34m\u001b[0m\n\u001b[0;32m      1\u001b[0m \u001b[1;31m#We can use the above function by just calling it and inputting the point coordinates:\u001b[0m\u001b[1;33m\u001b[0m\u001b[1;33m\u001b[0m\u001b[1;33m\u001b[0m\u001b[0m\n\u001b[1;32m----> 2\u001b[1;33m \u001b[0mcalculateT\u001b[0m\u001b[1;33m(\u001b[0m\u001b[1;33m)\u001b[0m\u001b[1;33m\u001b[0m\u001b[1;33m\u001b[0m\u001b[0m\n\u001b[0m",
      "\u001b[1;32m<ipython-input-3-598ebcbdf263>\u001b[0m in \u001b[0;36mcalculateT\u001b[1;34m()\u001b[0m\n\u001b[0;32m      6\u001b[0m     \u001b[0mm_y\u001b[0m \u001b[1;33m=\u001b[0m \u001b[0mmm_y\u001b[0m\u001b[1;33m/\u001b[0m\u001b[1;36m1000\u001b[0m\u001b[1;33m\u001b[0m\u001b[1;33m\u001b[0m\u001b[0m\n\u001b[0;32m      7\u001b[0m     \u001b[0mR\u001b[0m \u001b[1;33m=\u001b[0m \u001b[0mmath\u001b[0m\u001b[1;33m.\u001b[0m\u001b[0msqrt\u001b[0m\u001b[1;33m(\u001b[0m\u001b[0mm_x\u001b[0m\u001b[1;33m**\u001b[0m\u001b[1;36m2\u001b[0m \u001b[1;33m+\u001b[0m \u001b[0mm_y\u001b[0m\u001b[1;33m**\u001b[0m\u001b[1;36m2\u001b[0m\u001b[1;33m)\u001b[0m \u001b[1;31m#Radial distance from origin\u001b[0m\u001b[1;33m\u001b[0m\u001b[1;33m\u001b[0m\u001b[0m\n\u001b[1;32m----> 8\u001b[1;33m     \u001b[0mout_T\u001b[0m \u001b[1;33m=\u001b[0m \u001b[0mT_0\u001b[0m \u001b[1;33m+\u001b[0m \u001b[0mc_1\u001b[0m\u001b[1;33m/\u001b[0m\u001b[0mR\u001b[0m \u001b[1;33m*\u001b[0m \u001b[0mmath\u001b[0m\u001b[1;33m.\u001b[0m\u001b[0mexp\u001b[0m\u001b[1;33m(\u001b[0m\u001b[1;33m-\u001b[0m\u001b[0mc_2\u001b[0m \u001b[1;33m*\u001b[0m \u001b[1;33m(\u001b[0m\u001b[0mm_x\u001b[0m \u001b[1;33m+\u001b[0m \u001b[0mR\u001b[0m\u001b[1;33m)\u001b[0m\u001b[1;33m)\u001b[0m \u001b[1;31m#Temperature T(x,y) calculated using the same formula as above\u001b[0m\u001b[1;33m\u001b[0m\u001b[1;33m\u001b[0m\u001b[0m\n\u001b[0m\u001b[0;32m      9\u001b[0m     \u001b[0mprint\u001b[0m\u001b[1;33m(\u001b[0m\u001b[0mstr\u001b[0m\u001b[1;33m(\u001b[0m\u001b[0mout_T\u001b[0m\u001b[1;33m)\u001b[0m \u001b[1;33m+\u001b[0m \u001b[1;34m' K'\u001b[0m\u001b[1;33m)\u001b[0m\u001b[1;33m\u001b[0m\u001b[1;33m\u001b[0m\u001b[0m\n",
      "\u001b[1;31mZeroDivisionError\u001b[0m: float division by zero"
     ]
    }
   ],
   "source": [
    "#We can use the above function by just calling it and inputting the point coordinates: \n",
    "calculateT()"
   ]
  },
  {
   "cell_type": "markdown",
   "id": "579e7107",
   "metadata": {},
   "source": [
    "## The following block of code plots an interactive contour which represents the temperature gradient with changing x and y. We can play around with various parameters to see how the temperature distribution changes with changing parameters"
   ]
  },
  {
   "cell_type": "code",
   "execution_count": 5,
   "id": "bcec70ec",
   "metadata": {},
   "outputs": [],
   "source": [
    "#The following libraries will be used as they have some methods that will help us in making our contour plot interactive\n",
    "\n",
    "from ipywidgets import interact, interactive, fixed, interact_manual\n",
    "import ipywidgets as widgets"
   ]
  },
  {
   "cell_type": "code",
   "execution_count": 6,
   "id": "78513a86",
   "metadata": {},
   "outputs": [
    {
     "data": {
      "application/vnd.jupyter.widget-view+json": {
       "model_id": "97bfe62f58da4994ac420e12cc22e28d",
       "version_major": 2,
       "version_minor": 0
      },
      "text/plain": [
       "interactive(children=(IntSlider(value=500, description='P', max=1000, step=100), IntSlider(value=10, descripti…"
      ]
     },
     "metadata": {},
     "output_type": "display_data"
    },
    {
     "data": {
      "text/plain": [
       "<function __main__.T(P, K, V, alp)>"
      ]
     },
     "execution_count": 6,
     "metadata": {},
     "output_type": "execute_result"
    }
   ],
   "source": [
    "def T(P,K,V,alp):\n",
    "# P = 1000 #Denotes laser power\n",
    "# K = 20 #Thermal conductivity\n",
    "# V = 0.1 #Speed of the laser\n",
    "# alp = 1/100000 #Thermal diffusivity\n",
    "    c_1 = P/(2*math.pi*K) #just a constant = P/(2pi*K) for simplifying further calculations\n",
    "    c_2 = V/(2*alp/1000000) #Another constant = V/(2alp)\n",
    "    T_0 = 300 #Pre-heating\n",
    "    x1 = np.linspace(-30,-2,500)\n",
    "    x2 = np.linspace(0.5,5,500)\n",
    "    x = np.union1d(x1,x2)\n",
    "    y = np.linspace(-4, 4,500)\n",
    "    [X, Y] = np.meshgrid(x, y)\n",
    "    fig, ax = plt.subplots(1, 1)\n",
    "    T = T_0 + c_1/(np.sqrt(np.square(X/1000)+np.square(Y/1000)))*np.exp(-c_2*(X/1000 + np.sqrt(np.square(X/1000)+np.square(Y/1000))))\n",
    "    CS = plt.contourf(X, Y, T, 15, cmap='rainbow')\n",
    "    plt.xlabel('x (mm)')\n",
    "    plt.ylabel('y (mm)')\n",
    "    plt.colorbar()\n",
    "    \n",
    "\n",
    "interact(T, P=(0,1000,100),K=(0,20,1),V=0.1,alp=(5,15,1))"
   ]
  },
  {
   "cell_type": "markdown",
   "id": "a643b801",
   "metadata": {},
   "source": [
    "## The following method will be used to calculate the temperature at a point by clicking at its location in the image"
   ]
  },
  {
   "cell_type": "code",
   "execution_count": 7,
   "id": "14275c83",
   "metadata": {},
   "outputs": [
    {
     "name": "stdout",
     "output_type": "stream",
     "text": [
      "-22.6098   1.0594636\n",
      "610  K\n",
      "-30.072200000000002   3.9567579999999998\n",
      "371  K\n",
      "5.057400000000001   -3.9567476\n",
      "300  K\n"
     ]
    }
   ],
   "source": [
    "#This first function calculates temperature at the given points\n",
    "def calcT(x, y):\n",
    "    m_x = x/1000\n",
    "    m_y = y/1000\n",
    "    out_R = math.sqrt(m_x**2 + m_y**2)\n",
    "    P = 1000 #Denotes laser power\n",
    "    K = 20 #Thermal conductivity\n",
    "    V = 0.1 #Speed of the laser\n",
    "    alp = 1/100000 #Thermal diffusivity\n",
    "    c_1 = P/(2*math.pi*K) #just a constant = P/(2pi*K) for simplifying further calculations\n",
    "    c_2 = V/(2*alp) #Another constant = V/(2alp)\n",
    "    T_0 = 300 #Pre-heating\n",
    "    out_T = T_0 + c_1/out_R * math.exp(-c_2 * (m_x + out_R))\n",
    "    return out_T\n",
    "\n",
    "\n",
    "# This function to display the coordinates of the points clicked on the image and then passes those to the first function \n",
    "# to calculate the temperature at that point\n",
    "def click_event(event, x, y, flags, params):\n",
    "    global img\n",
    "    # checking for left mouse clicks\n",
    "    if event == cv2.EVENT_LBUTTONDOWN:\n",
    " \n",
    "        # displaying the coordinates\n",
    "        # on the Shell\n",
    "        #print(x, ' ', y)\n",
    "        actual_x = 0.0704 * x -35.6338\n",
    "        actual_y = -0.0216216 * y + 5.254054\n",
    "        print(actual_x, ' ', actual_y)\n",
    "        Temperature = calcT(actual_x, actual_y)\n",
    "        print(int(Temperature), ' K')\n",
    "        # displaying the coordinates\n",
    "        # on the image window\n",
    "        font = cv2.FONT_HERSHEY_SIMPLEX\n",
    "        x_co = round(actual_x, 3)\n",
    "        y_co = round(actual_y, 3)\n",
    "        Temperature = round(Temperature, 3)\n",
    "        cv2.putText(img, 'x: '+str(x_co) + ' mm', (x,y), font,\n",
    "                    0.5, (255, 255, 255), 1, cv2.LINE_AA)\n",
    "        cv2.putText(img, 'y: '+str(y_co) + ' mm', (x,y+15), font,\n",
    "                    0.5, (255, 255, 255), 1, cv2.LINE_AA)\n",
    "        cv2.putText(img, 'T: '+str(Temperature) + ' K', (x,y+30), font, \n",
    "                    0.5, (0, 0, 255), 1, cv2.LINE_AA)\n",
    "        cv2.imshow('image', img)\n",
    "        \n",
    "    if event==cv2.EVENT_RBUTTONDOWN:\n",
    "        #Removing the earlier texts and load fresh image\n",
    "        img = cv2.imread('temp.png', 1)\n",
    "        cv2.imshow('image', img)\n",
    "        cv2.setMouseCallback('image', click_event)\n",
    "\n",
    "        \n",
    "if __name__==\"__main__\":\n",
    " \n",
    "    # reading the image\n",
    "    img = cv2.imread('temp.png', 1)\n",
    " \n",
    "    # displaying the image\n",
    "    cv2.imshow('image', img)\n",
    " \n",
    "    # setting mouse handler for the image\n",
    "    # and calling the click_event() function\n",
    "    cv2.setMouseCallback('image', click_event)\n",
    " \n",
    "    # wait for a key to be pressed to exit\n",
    "    cv2.waitKey(0)\n",
    " \n",
    "    # close the window\n",
    "    cv2.destroyAllWindows()\n",
    "# x_actual=0.0704x-35.6338// x = click x coordinate, x_actual = actual x coordinate\n",
    "# y_actual=-0.021164y+5.0582\n"
   ]
  },
  {
   "cell_type": "code",
   "execution_count": 45,
   "id": "fb2230f8",
   "metadata": {},
   "outputs": [
    {
     "data": {
      "application/vnd.jupyter.widget-view+json": {
       "model_id": "1973dde177ef45baba3ed7c376a5f982",
       "version_major": 2,
       "version_minor": 0
      },
      "text/plain": [
       "interactive(children=(IntSlider(value=500, description='P', max=1000, step=100), IntSlider(value=10, descripti…"
      ]
     },
     "metadata": {},
     "output_type": "display_data"
    },
    {
     "data": {
      "text/plain": [
       "<Figure size 432x288 with 0 Axes>"
      ]
     },
     "metadata": {},
     "output_type": "display_data"
    }
   ],
   "source": [
    "def mouse_event(event):\n",
    "    print('x: {} and y: {}'.format(event.xdata, event.ydata))\n",
    "    \n",
    "    \n",
    "def T(P,K,V,alp):\n",
    "    \n",
    "# P = 1000 #Denotes laser power\n",
    "# K = 20 #Thermal conductivity\n",
    "# V = 0.1 #Speed of the laser\n",
    "# alp = 1/100000 #Thermal diffusivity\n",
    "    c_1 = P/(2*math.pi*K) #just a constant = P/(2pi*K) for simplifying further calculations\n",
    "    c_2 = V/(2*alp/1000000) #Another constant = V/(2alp)\n",
    "    T_0 = 300 #Pre-heating\n",
    "    x1 = np.linspace(-30,-2,500)\n",
    "    x2 = np.linspace(0.5,5,500)\n",
    "    x = np.union1d(x1,x2)\n",
    "    y = np.linspace(-4, 4,500)\n",
    "    [X, Y] = np.meshgrid(x, y)\n",
    "    fig, ax = plt.subplots(1, 1)\n",
    "    T = T_0 + c_1/(np.sqrt(np.square(X/1000)+np.square(Y/1000)))*np.exp(-c_2*(X/1000 + np.sqrt(np.square(X/1000)+np.square(Y/1000))))\n",
    "    CS = plt.contourf(X, Y, T, 15, cmap='rainbow')\n",
    "    plt.xlabel('x (mm)')\n",
    "    plt.ylabel('y (mm)')\n",
    "interact(T, P=(0,1000,100),K=(0,20,1),V=0.1,alp=(5,15,1))\n",
    "fig = plt.figure()\n",
    "cid = fig.canvas.mpl_connect('button_press_event', mouse_event)\n",
    "\n",
    "\n",
    "def calcT(x, y):\n",
    "    m_x = x/1000\n",
    "    m_y = y/1000\n",
    "    out_R = math.sqrt(m_x**2 + m_y**2)\n",
    "    P = 1000 #Denotes laser power\n",
    "    K = 20 #Thermal conductivity\n",
    "    V = 0.1 #Speed of the laser\n",
    "    alp = 1/100000 #Thermal diffusivity\n",
    "    c_1 = P/(2*math.pi*K) #just a constant = P/(2pi*K) for simplifying further calculations\n",
    "    c_2 = V/(2*alp) #Another constant = V/(2alp)\n",
    "    T_0 = 300 #Pre-heating\n",
    "    out_T = T_0 + c_1/out_R * math.exp(-c_2 * (m_x + out_R))\n",
    "    return out_T\n",
    "\n",
    "\n"
   ]
  },
  {
   "cell_type": "markdown",
   "id": "930c03ae",
   "metadata": {},
   "source": [
    "# Rough Work"
   ]
  },
  {
   "cell_type": "code",
   "execution_count": 2,
   "id": "ff3c3c85",
   "metadata": {},
   "outputs": [],
   "source": [
    "'''Simple rosenthal implementation'''\n",
    "T_0 = 300\n",
    "P = 1000\n",
    "K = 20\n",
    "alpha = 1/100000\n",
    "velocity = 0.1\n",
    "c1 = P/(2*math.pi*K)\n",
    "c2 = velocity/(2*alpha)\n",
    "time_step = 0.2/1000\n",
    "t = np.arange(0, 0.1, time_step)\n",
    "\n",
    "x = -t*velocity\n",
    "y = np.linspace(-4, 4,500)/1000\n",
    "z = np.linspace(0, -10, 500)/1000\n",
    "# R = np.sqrt(np.square(x)+np.square(y)+np.square(z))\n",
    "[X,Y,Z] = np.meshgrid(x,y,z)\n",
    "R = np.sqrt(X*X+Y*Y+Z*Z)\n",
    "T = T_0 + c1*(np.exp(-c2*(X+R)))/R\n"
   ]
  },
  {
   "cell_type": "code",
   "execution_count": 76,
   "id": "2395f9e6",
   "metadata": {},
   "outputs": [],
   "source": [
    "'''Defining some parameters and the function that will be integrated'''\n",
    "beta = 0.5\n",
    "P = 100\n",
    "R_l = 50*math.pow(10,-6)\n",
    "c3 = beta*P/(np.pi*np.pi*R_l*R_l*K)\n",
    "def f(x,y):\n",
    "    T = c3*np.exp(-2*(x*x+y*y)/(R_l*R_l))*np.exp(c2*(R+x))/R\n",
    "    return T"
   ]
  },
  {
   "cell_type": "code",
   "execution_count": null,
   "id": "65900ecf",
   "metadata": {},
   "outputs": [],
   "source": [
    "'''Integration implementation. i and j denote x and y respectively'''\n",
    "x_lower = 0\n",
    "x_upper = R_l\n",
    "y_lower = -np.sqrt(R_l*R_l-x*x)\n",
    "y_upper = \n",
    "integrate.dblquad(f, x_lower, x_upper, -np.sqrt(R_l*R_l-x*x), np.sqrt(R_l*R_l-x*x))"
   ]
  },
  {
   "cell_type": "code",
   "execution_count": 14,
   "id": "ecc8455f",
   "metadata": {},
   "outputs": [
    {
     "data": {
      "text/plain": [
       "<matplotlib.contour.QuadContourSet at 0x254f5f9a670>"
      ]
     },
     "execution_count": 14,
     "metadata": {},
     "output_type": "execute_result"
    },
    {
     "data": {
      "image/png": "[encoded data removed]",
      "text/plain": [
       "<Figure size 432x288 with 1 Axes>"
      ]
     },
     "metadata": {
      "needs_background": "light"
     },
     "output_type": "display_data"
    }
   ],
   "source": [
    "def f(x, y):\n",
    "    beta = 0.5\n",
    "    P = 100\n",
    "    R_l = 50*math.pow(10,-6)\n",
    "    return 2*beta*P/(np.pi*R_l*R_l)*np.exp(-2*(x*x+y*y)/30)\n",
    "def d(x, y):\n",
    "    return np.sin(np.sqrt(x ** 2 + y ** 2))\n",
    "\n",
    "x = np.linspace(-6, 6, 30)\n",
    "y = np.linspace(-6, 6, 30)\n",
    "X, Y = np.meshgrid(x, y)\n",
    "Z = f(X, Y)\n",
    "fig = plt.figure()\n",
    "ax = plt.axes(projection='3d')\n",
    "ax.contour3D(X, Y, Z, 50)"
   ]
  },
  {
   "cell_type": "code",
   "execution_count": 26,
   "id": "0b23926f",
   "metadata": {},
   "outputs": [
    {
     "data": {
      "text/plain": [
       "(0.125, 2.1365437515743557e-15)"
      ]
     },
     "execution_count": 26,
     "metadata": {},
     "output_type": "execute_result"
    }
   ],
   "source": [
    "R_l = 1\n",
    "f = lambda y, x: x*y\n",
    "integrate.dblquad(f, 0, 1, lambda x: 0, lambda x: np.sqrt(R_l*R_l-x*x))"
   ]
  },
  {
   "cell_type": "code",
   "execution_count": 93,
   "id": "4ef0c942",
   "metadata": {},
   "outputs": [
    {
     "data": {
      "text/plain": [
       "(8.488848889760277e-10, 6.459133589719679e-15)"
      ]
     },
     "execution_count": 93,
     "metadata": {},
     "output_type": "execute_result"
    }
   ],
   "source": [
    "R_l = 50*math.pow(10,-6)\n",
    "f = lambda y, x: np.exp(-2*(x*x+y*y)/(R_l*R_l))\n",
    "integrate.dblquad(f, 0, R_l, lambda x: 0, lambda x: np.sqrt(R_l*R_l-x*x))"
   ]
  },
  {
   "cell_type": "code",
   "execution_count": 86,
   "id": "076d8368",
   "metadata": {},
   "outputs": [
    {
     "data": {
      "text/plain": [
       "405284734.5693512"
      ]
     },
     "execution_count": 86,
     "metadata": {},
     "output_type": "execute_result"
    }
   ],
   "source": []
  },
  {
   "cell_type": "code",
   "execution_count": 94,
   "id": "0eea0306",
   "metadata": {},
   "outputs": [
    {
     "data": {
      "text/plain": [
       "(5.248553420271383e-09, 3.2042578539471225e-14)"
      ]
     },
     "execution_count": 94,
     "metadata": {},
     "output_type": "execute_result"
    }
   ],
   "source": [
    "R_l = 50*math.pow(10,-6)\n",
    "z = 1/1000\n",
    "f = lambda y, x: np.exp(-2*(x*x+y*y)/(R_l*R_l))*np.exp(-c2*(np.sqrt(x*x+y*y+z*z)+x))/np.sqrt(x*x+y*y+z*z)\n",
    "integration_array = []\n",
    "integrate.dblquad(f, 0, R_l, lambda x: 0, lambda x: np.sqrt(R_l*R_l-x*x))"
   ]
  },
  {
   "cell_type": "code",
   "execution_count": null,
   "id": "47f00a7e",
   "metadata": {},
   "outputs": [
    {
     "name": "stderr",
     "output_type": "stream",
     "text": [
      "<ipython-input-100-bbd4206f3429>:9: RuntimeWarning: invalid value encountered in sqrt\n",
      "  integration_element = integrate.dblquad(f, 0, x[i], lambda x: 0, lambda x: np.sqrt(R_l*R_l-x*x))\n"
     ]
    }
   ],
   "source": [
    "R_l = 50*math.pow(10,-6)\n",
    "z = 1/1000\n",
    "f = lambda y, x: np.exp(-2*(x*x+y*y)/(R_l*R_l))*np.exp(-c2*(np.sqrt(x*x+y*y+z*z)+x))/np.sqrt(x*x+y*y+z*z)\n",
    "integration_array = []\n",
    "integration_matrix = []\n",
    "for i in range(len(x)):\n",
    "    for j in range(len(y)):\n",
    "        if(abs(x[i] < R_l)):\n",
    "            integration_element = integrate.dblquad(f, 0, x[i], lambda x: 0, lambda x: np.sqrt(R_l*R_l-x*x))                \n",
    "            integration_array.append(4*float(c3)*float(integration_element[0]))\n",
    "    integration_matrix.append(integration_array)"
   ]
  },
  {
   "cell_type": "code",
   "execution_count": null,
   "id": "e3b56799",
   "metadata": {},
   "outputs": [],
   "source": []
  },
  {
   "cell_type": "code",
   "execution_count": null,
   "id": "80600941",
   "metadata": {},
   "outputs": [],
   "source": []
  },
  {
   "cell_type": "code",
   "execution_count": null,
   "id": "69f36544",
   "metadata": {},
   "outputs": [],
   "source": []
  },
  {
   "cell_type": "code",
   "execution_count": 38,
   "id": "b741eac9",
   "metadata": {},
   "outputs": [],
   "source": [
    "import numpy as np\n",
    "\n",
    "# Define some random data\n",
    "Ndata = 500\n",
    "data1 = np.random.uniform(.1, .8, Ndata)\n",
    "data2 = np.random.uniform(.01, .2, Ndata)\n",
    "\n",
    "# 1D function to integrate\n",
    "def distFunc(x, c1=1., c2=.1):\n",
    "    B1 = ((data1 - (1. / x)) / data2)**2\n",
    "    B2 = ((x - c1) / c2)**2\n",
    "    f = np.exp(-.5 * B1) * np.exp(-.5 * B2) / c2\n",
    "    return f\n",
    "\n",
    "# Values in x to evaluate the integral.\n",
    "x = np.linspace(.1, 10, 100).reshape(-1, 1)\n",
    "\n",
    "# Integral in x for each of the Ndata values defined above.\n",
    "int_exp = np.trapz(distFunc(x), x, axis=0)"
   ]
  },
  {
   "cell_type": "code",
   "execution_count": 40,
   "id": "5486d437",
   "metadata": {},
   "outputs": [
    {
     "data": {
      "text/plain": [
       "(500,)"
      ]
     },
     "execution_count": 40,
     "metadata": {},
     "output_type": "execute_result"
    }
   ],
   "source": [
    "int_exp.shape"
   ]
  },
  {
   "cell_type": "code",
   "execution_count": 51,
   "id": "a8369b33",
   "metadata": {},
   "outputs": [
    {
     "data": {
      "text/plain": [
       "(500,)"
      ]
     },
     "execution_count": 51,
     "metadata": {},
     "output_type": "execute_result"
    }
   ],
   "source": [
    "\n",
    "\n",
    "import numpy as np\n",
    "\n",
    "# Define some random data\n",
    "Ndata = 500\n",
    "data1 = np.random.uniform(.1, .8, Ndata)\n",
    "data2 = np.random.uniform(.01, .2, Ndata)\n",
    "\n",
    "# 1D function to integrate\n",
    "def distFunc(x, c1=1., c2=.1):\n",
    "    B1 = ((data1 - (1. / x)) / data2)**2\n",
    "    B2 = ((x - c1) / c2)**2\n",
    "    f = np.exp(-.5 * B1) * np.exp(-.5 * B2) / c2\n",
    "    return f\n",
    "\n",
    "def distFunc2d(x, y, c1=1.):\n",
    "    B1 = ((data1 - (1. / x)) / data2)**2\n",
    "    B2 = ((x - c1) / y)**2\n",
    "    f = np.exp(-.5 * B1) * np.exp(-.5 * B2) / y\n",
    "    return f\n",
    "\n",
    "# Values in x to evaluate the integral.\n",
    "x = np.linspace(.1, 10, 100)\n",
    "y = np.linspace(.1, 10, 100)\n",
    "\n",
    "# Integral in x for each of the Ndata values defined above.\n",
    "int_exp = np.trapz(distFunc(x[:,np.newaxis]), x, axis=0)\n",
    "int_exp2d = np.trapz(np.trapz(distFunc2d(x[:,np.newaxis],y[:,np.newaxis,np.newaxis]), y, axis=0), x, axis=0)"
   ]
  },
  {
   "cell_type": "code",
   "execution_count": null,
   "id": "d56eaaab",
   "metadata": {},
   "outputs": [],
   "source": [
    "int"
   ]
  },
  {
   "cell_type": "code",
   "execution_count": 88,
   "id": "9e9b19cc",
   "metadata": {},
   "outputs": [],
   "source": [
    "T_0 = 300\n",
    "P = 1000\n",
    "K = 20\n",
    "alpha = 1/100000\n",
    "velocity = 0.1\n",
    "c1 = P/(2*math.pi*K)\n",
    "c2 = velocity/(2*alpha)\n",
    "time_step = 0.2/1000\n",
    "t = np.arange(0, 0.1, time_step)\n",
    "x = -t*velocity\n",
    "y = np.linspace(-4, 4,500)/1000\n",
    "z = np.linspace(0, -10, 500)/1000"
   ]
  },
  {
   "cell_type": "code",
   "execution_count": 77,
   "id": "1d973571",
   "metadata": {},
   "outputs": [],
   "source": [
    "beta = 0.5\n",
    "P = 100\n",
    "R_l = 50*math.pow(10,-6)\n",
    "c3 = beta*P/(np.pi*np.pi*R_l*R_l*K)\n",
    "int_exp2d*=abs(4*c3)"
   ]
  },
  {
   "cell_type": "code",
   "execution_count": 71,
   "id": "c98774b3",
   "metadata": {},
   "outputs": [],
   "source": [
    "# 2D function to integrate\n",
    "def distFunc(x, y):\n",
    "    B1 = (x*x+y*y)/(R_l*R_l)\n",
    "    R = np.sqrt(x*x+y*y+z*z)\n",
    "    f = np.exp(-2 * B1) * np.exp(-c2 * (R+x)) / R\n",
    "    return f\n",
    "\n",
    "int_exp2d = np.trapz(np.trapz(distFunc(x[:,np.newaxis],y[:,np.newaxis,np.newaxis]), y, axis=0), x, axis=0)"
   ]
  },
  {
   "cell_type": "code",
   "execution_count": 78,
   "id": "7c7c60cb",
   "metadata": {},
   "outputs": [
    {
     "data": {
      "text/plain": [
       "array([2.01305008e+11, 1.81825175e+11, 1.44077960e+11, 1.10050128e+11,\n",
       "       8.42827791e+10, 6.54219790e+10, 5.15434810e+10, 4.11685001e+10,\n",
       "       3.32757284e+10, 2.71718401e+10, 2.23818587e+10, 1.85746699e+10,\n",
       "       1.55149181e+10, 1.30320987e+10, 1.10004791e+10, 9.32583334e+09,\n",
       "       7.93651146e+09, 6.77731443e+09, 5.80521614e+09, 4.98632511e+09,\n",
       "       4.29369239e+09, 3.70570688e+09, 3.20490501e+09, 2.77707684e+09,\n",
       "       2.41058711e+09, 2.09585434e+09, 1.82494721e+09, 1.59126917e+09,\n",
       "       1.38930987e+09, 1.21444800e+09, 1.06279352e+09, 9.31060906e+08,\n",
       "       8.16466510e+08, 7.16645047e+08, 6.29581326e+08, 5.53554136e+08,\n",
       "       4.87089946e+08, 4.28924518e+08, 3.77970987e+08, 3.33293202e+08,\n",
       "       2.94083390e+08, 2.59643390e+08, 2.29368830e+08, 2.02735758e+08,\n",
       "       1.79289305e+08, 1.58634061e+08, 1.40425872e+08, 1.24364846e+08,\n",
       "       1.10189372e+08, 9.76709873e+07, 8.66099815e+07, 7.68316105e+07,\n",
       "       6.81828371e+07, 6.05295188e+07, 5.37539785e+07, 4.77529026e+07,\n",
       "       4.24355200e+07, 3.77220220e+07, 3.35421910e+07, 2.98342069e+07,\n",
       "       2.65436090e+07, 2.36223910e+07, 2.10282116e+07, 1.87237057e+07,\n",
       "       1.66758814e+07, 1.48555939e+07, 1.32370839e+07, 1.17975736e+07,\n",
       "       1.05169128e+07, 9.37726726e+06, 8.36284661e+06, 7.45966388e+06,\n",
       "       6.65532490e+06, 5.93884264e+06, 5.30047394e+06, 4.73157557e+06,\n",
       "       4.22447747e+06, 3.77237086e+06, 3.36920963e+06, 3.00962322e+06,\n",
       "       2.68883969e+06, 2.40261776e+06, 2.14718676e+06, 1.91919342e+06,\n",
       "       1.71565495e+06, 1.53391735e+06, 1.37161862e+06, 1.22665609e+06,\n",
       "       1.09715753e+06, 9.81455471e+05, 8.78064524e+05, 7.85661167e+05,\n",
       "       7.03065877e+05, 6.29227237e+05, 5.63207837e+05, 5.04171746e+05,\n",
       "       4.51373381e+05, 4.04147623e+05, 3.61901020e+05, 3.24103976e+05,\n",
       "       2.90283792e+05, 2.60018486e+05, 2.32931290e+05, 2.08685746e+05,\n",
       "       1.86981352e+05, 1.67549674e+05, 1.50150891e+05, 1.34570709e+05,\n",
       "       1.20617623e+05, 1.08120463e+05, 9.69262168e+04, 8.68980859e+04,\n",
       "       7.79137500e+04, 6.98638210e+04, 6.26504636e+04, 5.61861645e+04,\n",
       "       5.03926333e+04, 4.51998232e+04, 4.05450546e+04, 3.63722349e+04,\n",
       "       3.26311601e+04, 2.92768916e+04, 2.62692002e+04, 2.35720685e+04,\n",
       "       2.11532463e+04, 1.89838544e+04, 1.70380289e+04, 1.52926047e+04,\n",
       "       1.37268315e+04, 1.23221208e+04, 1.10618187e+04, 9.93100323e+03,\n",
       "       8.91630347e+03, 8.00573688e+03, 7.18856437e+03, 6.45516045e+03,\n",
       "       5.79689703e+03, 5.20603944e+03, 4.67565337e+03, 4.19952156e+03,\n",
       "       3.77206923e+03, 3.38829729e+03, 3.04372259e+03, 2.73432433e+03,\n",
       "       2.45649617e+03, 2.20700322e+03, 1.98294365e+03, 1.78171414e+03,\n",
       "       1.60097907e+03, 1.43864284e+03, 1.29282508e+03, 1.16183843e+03,\n",
       "       1.04416862e+03, 9.38456668e+02, 8.43482850e+02, 7.58152367e+02,\n",
       "       6.81482498e+02, 6.12591071e+02, 5.50686129e+02, 4.95056664e+02,\n",
       "       4.45064308e+02, 4.00135879e+02, 3.59756695e+02, 3.23464581e+02,\n",
       "       2.90844489e+02, 2.61523671e+02, 2.35167356e+02, 2.11474860e+02,\n",
       "       1.90176104e+02, 1.71028486e+02, 1.53814077e+02, 1.38337100e+02,\n",
       "       1.24421670e+02, 1.11909767e+02, 1.00659413e+02, 9.05430388e+01,\n",
       "       8.14460169e+01, 7.32653426e+01, 6.59084524e+01, 5.92921615e+01,\n",
       "       5.33417107e+01, 4.79899101e+01, 4.31763699e+01, 3.88468101e+01,\n",
       "       3.49524407e+01, 3.14494040e+01, 2.82982748e+01, 2.54636113e+01,\n",
       "       2.29135508e+01, 2.06194475e+01, 1.85555467e+01, 1.66986923e+01,\n",
       "       1.50280634e+01, 1.35249387e+01, 1.21724836e+01, 1.09555600e+01,\n",
       "       9.86055436e+00, 8.87522432e+00, 7.98855975e+00, 7.19065854e+00,\n",
       "       6.47261483e+00, 5.82641846e+00, 5.24486465e+00, 4.72147284e+00,\n",
       "       4.25041368e+00, 3.82644344e+00, 3.44484500e+00, 3.10137488e+00,\n",
       "       2.79221553e+00, 2.51393248e+00, 2.26343580e+00, 2.03794547e+00,\n",
       "       1.83496023e+00, 1.65222951e+00, 1.48772831e+00, 1.33963451e+00,\n",
       "       1.20630849e+00, 1.08627482e+00, 9.78205789e-01, 8.80906565e-01,\n",
       "       7.93301883e-01, 7.14424043e-01, 6.43402133e-01, 5.79452325e-01,\n",
       "       5.21869148e-01, 4.70017641e-01, 4.23326290e-01, 3.81280675e-01,\n",
       "       3.43417754e-01, 3.09320723e-01, 2.78614389e-01, 2.50961005e-01,\n",
       "       2.26056531e-01, 2.03627257e-01, 1.83426776e-01, 1.65233255e-01,\n",
       "       1.48846978e-01, 1.34088136e-01, 1.20794842e-01, 1.08821339e-01,\n",
       "       9.80363915e-02, 8.83218350e-02, 7.95712720e-02, 7.16888985e-02,\n",
       "       6.45884473e-02, 5.81922367e-02, 5.24303150e-02, 4.72396896e-02,\n",
       "       4.25636338e-02, 3.83510623e-02, 3.45559693e-02, 3.11369226e-02,\n",
       "       2.80566080e-02, 2.52814197e-02, 2.27810907e-02, 2.05283611e-02,\n",
       "       1.84986784e-02, 1.66699282e-02, 1.50221921e-02, 1.35375289e-02,\n",
       "       1.21997782e-02, 1.09943833e-02, 9.90823213e-03, 8.92951306e-03,\n",
       "       8.04758624e-03, 7.25286700e-03, 6.53672106e-03, 5.89137016e-03,\n",
       "       5.30980707e-03, 4.78571906e-03, 4.31341895e-03, 3.88778306e-03,\n",
       "       3.50419527e-03, 3.15849671e-03, 2.84694034e-03, 2.56615020e-03,\n",
       "       2.31308452e-03, 2.08500268e-03, 1.87943528e-03, 1.69415732e-03,\n",
       "       1.52716394e-03, 1.37664863e-03, 1.24098358e-03, 1.11870199e-03,\n",
       "       1.00848210e-03, 9.09132841e-04, 8.19580900e-04, 7.38859064e-04,\n",
       "       6.66095715e-04, 6.00505369e-04, 5.41380158e-04, 4.88082149e-04,\n",
       "       4.40036425e-04, 3.96724855e-04, 3.57680478e-04, 3.22482443e-04,\n",
       "       2.90751450e-04, 2.62145644e-04, 2.36356915e-04, 2.13107560e-04,\n",
       "       1.92147282e-04, 1.73250480e-04, 1.56213811e-04, 1.40853991e-04,\n",
       "       1.27005814e-04, 1.14520369e-04, 1.03263426e-04, 9.31139914e-05,\n",
       "       8.39630014e-05, 7.57121418e-05, 6.82727892e-05, 6.15650542e-05,\n",
       "       5.55169202e-05, 5.00634661e-05, 4.51461671e-05, 4.07122635e-05,\n",
       "       3.67141922e-05, 3.31090747e-05, 2.98582549e-05, 2.69268830e-05,\n",
       "       2.42835402e-05, 2.18999009e-05, 1.97504276e-05, 1.78120962e-05,\n",
       "       1.60641487e-05, 1.44878695e-05, 1.30663845e-05, 1.17844799e-05,\n",
       "       1.06284384e-05, 9.58589185e-06, 8.64568866e-06, 7.79777388e-06,\n",
       "       7.03308129e-06, 6.34343607e-06, 5.72146709e-06, 5.16052783e-06,\n",
       "       4.65462508e-06, 4.19835467e-06, 3.78684350e-06, 3.41569735e-06,\n",
       "       3.08095375e-06, 2.77903951e-06, 2.50673250e-06, 2.26112705e-06,\n",
       "       2.03960290e-06, 1.83979714e-06, 1.65957887e-06, 1.49702645e-06,\n",
       "       1.35040690e-06, 1.21815738e-06, 1.09886847e-06, 9.91269081e-07,\n",
       "       8.94212887e-07, 8.06666063e-07, 7.27696229e-07, 6.56462498e-07,\n",
       "       5.92206480e-07, 5.34244191e-07, 4.81958742e-07, 4.34793754e-07,\n",
       "       3.92247417e-07, 3.53867137e-07, 3.19244701e-07, 2.88011924e-07,\n",
       "       2.59836722e-07, 2.34419567e-07, 2.11490295e-07, 1.90805224e-07,\n",
       "       1.72144557e-07, 1.55310040e-07, 1.40122846e-07, 1.26421673e-07,\n",
       "       1.14061024e-07, 1.02909656e-07, 9.28491871e-08, 8.37728290e-08,\n",
       "       7.55842555e-08, 6.81965748e-08, 6.15314054e-08, 5.55180418e-08,\n",
       "       5.00927024e-08, 4.51978509e-08, 4.07815844e-08, 3.67970813e-08,\n",
       "       3.32021040e-08, 2.99585492e-08, 2.70320433e-08, 2.43915769e-08,\n",
       "       2.20091757e-08, 1.98596026e-08, 1.79200904e-08, 1.61700993e-08,\n",
       "       1.45910993e-08, 1.31663731e-08, 1.18808390e-08, 1.07208904e-08,\n",
       "       9.67425157e-09, 8.72984761e-09, 7.87768658e-09, 7.10875375e-09,\n",
       "       6.41491586e-09, 5.78883496e-09, 5.22389052e-09, 4.71410929e-09,\n",
       "       4.25410198e-09, 3.83900609e-09, 3.46443445e-09, 3.12642868e-09,\n",
       "       2.82141726e-09, 2.54617774e-09, 2.29780254e-09, 2.07366822e-09,\n",
       "       1.87140767e-09, 1.68888505e-09, 1.52417319e-09, 1.37553319e-09,\n",
       "       1.24139602e-09, 1.12034589e-09, 1.01110532e-09, 9.12521591e-10,\n",
       "       8.23554548e-10, 7.43265625e-10, 6.70807904e-10, 6.05417163e-10,\n",
       "       5.46403798e-10, 4.93145530e-10, 4.45080833e-10, 4.01702997e-10,\n",
       "       3.62554775e-10, 3.27223551e-10, 2.95336982e-10, 2.66559064e-10,\n",
       "       2.40586588e-10, 2.17145929e-10, 1.95990168e-10, 1.76896475e-10,\n",
       "       1.59663764e-10, 1.44110567e-10, 1.30073121e-10, 1.17403638e-10,\n",
       "       1.05968747e-10, 9.56480859e-11, 8.63330324e-11, 7.79255590e-11,\n",
       "       7.03371985e-11, 6.34881110e-11, 5.73062426e-11, 5.17265653e-11,\n",
       "       4.66903918e-11, 4.21447572e-11, 3.80418601e-11, 3.43385595e-11,\n",
       "       3.09959201e-11, 2.79788020e-11, 2.52554906e-11, 2.27973626e-11,\n",
       "       2.05785845e-11, 1.85758406e-11, 1.67680874e-11, 1.51363321e-11,\n",
       "       1.36634328e-11, 1.23339178e-11, 1.11338231e-11, 1.00505451e-11,\n",
       "       9.07270803e-12, 8.19004463e-12, 7.39328771e-12, 6.67407284e-12,\n",
       "       6.02485037e-12, 5.43880600e-12, 4.90978915e-12, 4.43224826e-12,\n",
       "       4.00117244e-12, 3.61203879e-12, 3.26076485e-12, 2.94366569e-12,\n",
       "       2.65741518e-12, 2.39901107e-12, 2.16574338e-12, 1.95516601e-12,\n",
       "       1.76507097e-12, 1.59346521e-12, 1.43854971e-12, 1.29870056e-12,\n",
       "       1.17245192e-12, 1.05848061e-12, 9.55592239e-13, 8.62708659e-13,\n",
       "       7.78856643e-13, 7.03157673e-13, 6.34818721e-13, 5.73123923e-13,\n",
       "       5.17427070e-13, 4.67144830e-13, 4.21750622e-13, 3.80769096e-13,\n",
       "       3.43771148e-13, 3.10369415e-13, 2.80214218e-13, 2.52989889e-13])"
      ]
     },
     "execution_count": 78,
     "metadata": {},
     "output_type": "execute_result"
    }
   ],
   "source": [
    "abs(int_exp2d)"
   ]
  },
  {
   "cell_type": "code",
   "execution_count": null,
   "id": "7aba4600",
   "metadata": {},
   "outputs": [],
   "source": [
    "R_l = 50*math.pow(10,-6)\n",
    "z=1/1000\n",
    "f = lambda y, x: np.exp(-2*(x*x+y*y)/(R_l*R_l))*np.exp(-c3*(R+x))/np.sqrt(x*x+y*y+z*z)\n",
    "integrate.dblquad(f, 0, R_l, lambda x: 0, lambda x: np.sqrt(R_l*R_l-x*x))"
   ]
  },
  {
   "cell_type": "code",
   "execution_count": 2,
   "id": "9f649b1c",
   "metadata": {},
   "outputs": [],
   "source": [
    "T_0 = 300\n",
    "P = 1000\n",
    "K = 20\n",
    "alpha = 1/100000\n",
    "velocity = 0.1\n",
    "# c1 = P/(2*math.pi*K)\n",
    "# c2 = velocity/(2*alpha)\n",
    "time_step = 0.2/1000\n",
    "t = np.arange(0, 0.1, time_step)\n",
    "# x = -t*velocity\n",
    "# y = np.linspace(-4, 4,500)/1000\n",
    "# z = np.linspace(0, -10, 500)/1000"
   ]
  },
  {
   "cell_type": "code",
   "execution_count": 3,
   "id": "cd138342",
   "metadata": {},
   "outputs": [],
   "source": [
    "x_0 = t*velocity\n",
    "y_0 = np.linspace(-4, 4,500)/1000\n",
    "z_0 = np.linspace(0, -10, 500)/1000\n",
    "x_0_norm = x_0*velocity/(2*alpha)\n",
    "y_0_norm = y_0*velocity/(2*alpha)\n",
    "z_0_norm = z_0*velocity/(2*alpha)\n",
    "t_norm = t*velocity*velocity/(2*alpha)"
   ]
  },
  {
   "cell_type": "code",
   "execution_count": 4,
   "id": "fd1293ad",
   "metadata": {},
   "outputs": [],
   "source": [
    "[X_norm,Y_norm,Z_norm] = np.meshgrid(x_0_norm,y_0_norm,z_0_norm)\n",
    "R_norm = np.sqrt(X_norm*X_norm+Y_norm*Y_norm+Z_norm*Z_norm)"
   ]
  },
  {
   "cell_type": "code",
   "execution_count": 5,
   "id": "cab3da81",
   "metadata": {},
   "outputs": [
    {
     "data": {
      "text/plain": [
       "(500, 500, 500)"
      ]
     },
     "execution_count": 5,
     "metadata": {},
     "output_type": "execute_result"
    }
   ],
   "source": [
    "R_norm.shape"
   ]
  },
  {
   "cell_type": "code",
   "execution_count": 6,
   "id": "d9376718",
   "metadata": {},
   "outputs": [],
   "source": [
    "### dT_norm/dt_norm ###\n",
    "\n",
    "dTdt_norm = 0.5*np.exp(-X_norm-R_norm)*(1+X_norm/R_norm+X_norm/R_norm**2)/R_norm"
   ]
  },
  {
   "cell_type": "code",
   "execution_count": 7,
   "id": "4dfd3f11",
   "metadata": {},
   "outputs": [
    {
     "data": {
      "text/plain": [
       "(500, 500, 500)"
      ]
     },
     "execution_count": 7,
     "metadata": {},
     "output_type": "execute_result"
    }
   ],
   "source": [
    "dTdt_norm.shape"
   ]
  },
  {
   "cell_type": "code",
   "execution_count": 8,
   "id": "2cb185aa",
   "metadata": {},
   "outputs": [],
   "source": [
    "### dT_norm/dx_norm ###\n",
    "\n",
    "dTdx_norm = -0.5*np.exp(-X_norm-R_norm)*(1+X_norm/R_norm+X_norm/R_norm**2)/R_norm\n",
    "\n",
    "dTdy_norm = -0.5*Y_norm*np.exp(-X_norm-R_norm)*(1+1/R_norm)/R_norm**2\n",
    "\n",
    "dTdz_norm = -0.5*Z_norm*np.exp(-X_norm-R_norm)*(1+1/R_norm)/R_norm**2"
   ]
  },
  {
   "cell_type": "code",
   "execution_count": 12,
   "id": "df57a4af",
   "metadata": {},
   "outputs": [
    {
     "data": {
      "text/plain": [
       "(500, 500, 500)"
      ]
     },
     "execution_count": 12,
     "metadata": {},
     "output_type": "execute_result"
    }
   ],
   "source": [
    "dTdy_norm.shape"
   ]
  },
  {
   "cell_type": "code",
   "execution_count": 14,
   "id": "63843064",
   "metadata": {},
   "outputs": [],
   "source": [
    "# [DTDX_norm,DTDY_norm,DTDZ_norm] = np.meshgrid(dTdx_norm,dTdy_norm,dTdz_norm)\n",
    "DelT_norm = np.sqrt(dTdx_norm**2+dTdy_norm**2+dTdz_norm**2)"
   ]
  },
  {
   "cell_type": "code",
   "execution_count": 15,
   "id": "071ed4a0",
   "metadata": {},
   "outputs": [],
   "source": [
    "### dT/dt ###\n",
    "dTdt = P*(velocity**3)*dTdt_norm/(4*np.pi*K*alpha**2)"
   ]
  },
  {
   "cell_type": "code",
   "execution_count": 16,
   "id": "3fa631c3",
   "metadata": {},
   "outputs": [],
   "source": [
    "### Delta T ###\n",
    "delT = P*(velocity**2)*DelT_norm/(4*np.pi*K*alpha**2)"
   ]
  },
  {
   "cell_type": "code",
   "execution_count": 27,
   "id": "036235cf",
   "metadata": {},
   "outputs": [
    {
     "data": {
      "text/plain": [
       "16360039.212453626"
      ]
     },
     "execution_count": 27,
     "metadata": {},
     "output_type": "execute_result"
    }
   ],
   "source": []
  },
  {
   "cell_type": "code",
   "execution_count": null,
   "id": "22620e79",
   "metadata": {},
   "outputs": [],
   "source": []
  }
 ],
 "metadata": {
  "kernelspec": {
   "display_name": "Python 3",
   "language": "python",
   "name": "python3"
  },
  "language_info": {
   "codemirror_mode": {
    "name": "ipython",
    "version": 3
   },
   "file_extension": ".py",
   "mimetype": "text/x-python",
   "name": "python",
   "nbconvert_exporter": "python",
   "pygments_lexer": "ipython3",
   "version": "3.8.8"
  }
 },
 "nbformat": 4,
 "nbformat_minor": 5
}
